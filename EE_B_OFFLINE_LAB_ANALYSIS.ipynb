{
  "nbformat": 4,
  "nbformat_minor": 0,
  "metadata": {
    "colab": {
      "name": "EE B OFFLINE LAB ANALYSIS.ipynb",
      "provenance": []
    },
    "kernelspec": {
      "name": "python3",
      "display_name": "Python 3"
    },
    "language_info": {
      "name": "python"
    }
  },
  "cells": [
    {
      "cell_type": "code",
      "metadata": {
        "id": "vT67qZ_1jYsS"
      },
      "source": [
        "import pandas as pd"
      ],
      "execution_count": 1,
      "outputs": []
    },
    {
      "cell_type": "code",
      "metadata": {
        "id": "61-f53VKj0kS"
      },
      "source": [
        "resp=pd.read_csv('/content/EE-B RESPONSES.csv')"
      ],
      "execution_count": 14,
      "outputs": []
    },
    {
      "cell_type": "code",
      "metadata": {
        "colab": {
          "base_uri": "https://localhost:8080/",
          "height": 553
        },
        "id": "HYwo5MCMj7uE",
        "outputId": "89845a76-f6a9-48b7-bac2-91019501f407"
      },
      "source": [
        "resp.head()\n"
      ],
      "execution_count": 15,
      "outputs": [
        {
          "output_type": "execute_result",
          "data": {
            "text/html": [
              "<div>\n",
              "<style scoped>\n",
              "    .dataframe tbody tr th:only-of-type {\n",
              "        vertical-align: middle;\n",
              "    }\n",
              "\n",
              "    .dataframe tbody tr th {\n",
              "        vertical-align: top;\n",
              "    }\n",
              "\n",
              "    .dataframe thead th {\n",
              "        text-align: right;\n",
              "    }\n",
              "</style>\n",
              "<table border=\"1\" class=\"dataframe\">\n",
              "  <thead>\n",
              "    <tr style=\"text-align: right;\">\n",
              "      <th></th>\n",
              "      <th>Timestamp</th>\n",
              "      <th>Email address</th>\n",
              "      <th>Can you attend OFFLINE LAB CLASSES ?</th>\n",
              "      <th>MENTION YOUR FULL NAME :-</th>\n",
              "      <th>MENTION YOUR FULL EMAIL :-</th>\n",
              "      <th>MENTION YOUR FULL CONTACT NUM :-</th>\n",
              "      <th>CLASS ROLL NUMBER</th>\n",
              "      <th>FROM WHICH DISTRICT WILL U COME ?</th>\n",
              "      <th>HAVE U SHIFTED TO KOLKATA ?</th>\n",
              "    </tr>\n",
              "  </thead>\n",
              "  <tbody>\n",
              "    <tr>\n",
              "      <th>0</th>\n",
              "      <td>20/11/2021 17:35:55</td>\n",
              "      <td>NaN</td>\n",
              "      <td>Yes,  I'll be there</td>\n",
              "      <td>Sainik Khaddar</td>\n",
              "      <td>sainikwarror132@gmail.com</td>\n",
              "      <td>8697108716</td>\n",
              "      <td>2010801145</td>\n",
              "      <td>Kolkata</td>\n",
              "      <td>I live in Kolkata only</td>\n",
              "    </tr>\n",
              "    <tr>\n",
              "      <th>1</th>\n",
              "      <td>20/11/2021 17:37:04</td>\n",
              "      <td>NaN</td>\n",
              "      <td>Yes,  I'll be there</td>\n",
              "      <td>Aloy Mallick</td>\n",
              "      <td>aloymallickju@gmail.com</td>\n",
              "      <td>7003460877</td>\n",
              "      <td>2010801180</td>\n",
              "      <td>North 24 Pgs</td>\n",
              "      <td>No problem for me to commute from home (●'◡'●)</td>\n",
              "    </tr>\n",
              "    <tr>\n",
              "      <th>2</th>\n",
              "      <td>20/11/2021 17:50:39</td>\n",
              "      <td>sukrit9112001@gmail.com</td>\n",
              "      <td>Yes,  I'll be there</td>\n",
              "      <td>Sukrit Chattopadhyay</td>\n",
              "      <td>sukrit9112001@gmail.com</td>\n",
              "      <td>8902015446</td>\n",
              "      <td>2010801158</td>\n",
              "      <td>Hooghly</td>\n",
              "      <td>No problem for me to commute from home (●'◡'●)</td>\n",
              "    </tr>\n",
              "    <tr>\n",
              "      <th>3</th>\n",
              "      <td>20/11/2021 17:51:11</td>\n",
              "      <td>maitrayosaha@gmail.com</td>\n",
              "      <td>Yes,  I'll be there</td>\n",
              "      <td>Maitrayo Saha</td>\n",
              "      <td>maitrayosaha@gmail.com</td>\n",
              "      <td>7439704863</td>\n",
              "      <td>2010801193</td>\n",
              "      <td>North 24 Parganas</td>\n",
              "      <td>I live in Kolkata only</td>\n",
              "    </tr>\n",
              "    <tr>\n",
              "      <th>4</th>\n",
              "      <td>21/11/2021 15:50:47</td>\n",
              "      <td>golammehemood44@gmail.com</td>\n",
              "      <td>Yes,  I'll be there</td>\n",
              "      <td>Golam mehemood</td>\n",
              "      <td>golammehemood44@gmail.com</td>\n",
              "      <td>8232018244</td>\n",
              "      <td>2010801173</td>\n",
              "      <td>Murshidabad</td>\n",
              "      <td>Yes</td>\n",
              "    </tr>\n",
              "  </tbody>\n",
              "</table>\n",
              "</div>"
            ],
            "text/plain": [
              "             Timestamp  ...                     HAVE U SHIFTED TO KOLKATA ?\n",
              "0  20/11/2021 17:35:55  ...                          I live in Kolkata only\n",
              "1  20/11/2021 17:37:04  ...  No problem for me to commute from home (●'◡'●)\n",
              "2  20/11/2021 17:50:39  ...  No problem for me to commute from home (●'◡'●)\n",
              "3  20/11/2021 17:51:11  ...                          I live in Kolkata only\n",
              "4  21/11/2021 15:50:47  ...                                             Yes\n",
              "\n",
              "[5 rows x 9 columns]"
            ]
          },
          "metadata": {},
          "execution_count": 15
        }
      ]
    },
    {
      "cell_type": "code",
      "metadata": {
        "colab": {
          "base_uri": "https://localhost:8080/"
        },
        "id": "uOUa7lgYj91v",
        "outputId": "ab0a7791-ff38-4a07-98ca-df55e6e8f279"
      },
      "source": [
        "resp.shape"
      ],
      "execution_count": 16,
      "outputs": [
        {
          "output_type": "execute_result",
          "data": {
            "text/plain": [
              "(65, 9)"
            ]
          },
          "metadata": {},
          "execution_count": 16
        }
      ]
    },
    {
      "cell_type": "code",
      "metadata": {
        "id": "v1uvje65kBre"
      },
      "source": [
        "vacc=pd.read_csv('/content/vaccination.csv')"
      ],
      "execution_count": 17,
      "outputs": []
    },
    {
      "cell_type": "code",
      "metadata": {
        "colab": {
          "base_uri": "https://localhost:8080/",
          "height": 206
        },
        "id": "3I0Y8gMDkJH4",
        "outputId": "906438ac-46c7-4f57-abc6-a4868bfaffe5"
      },
      "source": [
        "vacc.head()"
      ],
      "execution_count": 18,
      "outputs": [
        {
          "output_type": "execute_result",
          "data": {
            "text/html": [
              "<div>\n",
              "<style scoped>\n",
              "    .dataframe tbody tr th:only-of-type {\n",
              "        vertical-align: middle;\n",
              "    }\n",
              "\n",
              "    .dataframe tbody tr th {\n",
              "        vertical-align: top;\n",
              "    }\n",
              "\n",
              "    .dataframe thead th {\n",
              "        text-align: right;\n",
              "    }\n",
              "</style>\n",
              "<table border=\"1\" class=\"dataframe\">\n",
              "  <thead>\n",
              "    <tr style=\"text-align: right;\">\n",
              "      <th></th>\n",
              "      <th>Timestamp</th>\n",
              "      <th>CLASS ROLL NUMBER</th>\n",
              "      <th>Have u taken VACCINATION 1ST DOSE?</th>\n",
              "      <th>Have u taken VACCINATION 2ND DOSE?</th>\n",
              "    </tr>\n",
              "  </thead>\n",
              "  <tbody>\n",
              "    <tr>\n",
              "      <th>0</th>\n",
              "      <td>22/11/2021 13:39:20</td>\n",
              "      <td>2010801209</td>\n",
              "      <td>Yes</td>\n",
              "      <td>Yes</td>\n",
              "    </tr>\n",
              "    <tr>\n",
              "      <th>1</th>\n",
              "      <td>22/11/2021 13:39:30</td>\n",
              "      <td>2010801179</td>\n",
              "      <td>Yes</td>\n",
              "      <td>No</td>\n",
              "    </tr>\n",
              "    <tr>\n",
              "      <th>2</th>\n",
              "      <td>22/11/2021 13:39:32</td>\n",
              "      <td>2010801172</td>\n",
              "      <td>Yes</td>\n",
              "      <td>Yes</td>\n",
              "    </tr>\n",
              "    <tr>\n",
              "      <th>3</th>\n",
              "      <td>22/11/2021 13:39:50</td>\n",
              "      <td>2010801201</td>\n",
              "      <td>Yes</td>\n",
              "      <td>Yes</td>\n",
              "    </tr>\n",
              "    <tr>\n",
              "      <th>4</th>\n",
              "      <td>22/11/2021 13:40:48</td>\n",
              "      <td>2010801221</td>\n",
              "      <td>Yes</td>\n",
              "      <td>Yes</td>\n",
              "    </tr>\n",
              "  </tbody>\n",
              "</table>\n",
              "</div>"
            ],
            "text/plain": [
              "             Timestamp  ...  Have u taken VACCINATION 2ND DOSE?\n",
              "0  22/11/2021 13:39:20  ...                                 Yes\n",
              "1  22/11/2021 13:39:30  ...                                  No\n",
              "2  22/11/2021 13:39:32  ...                                 Yes\n",
              "3  22/11/2021 13:39:50  ...                                 Yes\n",
              "4  22/11/2021 13:40:48  ...                                 Yes\n",
              "\n",
              "[5 rows x 4 columns]"
            ]
          },
          "metadata": {},
          "execution_count": 18
        }
      ]
    },
    {
      "cell_type": "code",
      "metadata": {
        "colab": {
          "base_uri": "https://localhost:8080/"
        },
        "id": "Umbqnpc4kK2H",
        "outputId": "58f49508-2748-43bd-85ea-47a3613c8c8c"
      },
      "source": [
        "vacc.shape"
      ],
      "execution_count": 19,
      "outputs": [
        {
          "output_type": "execute_result",
          "data": {
            "text/plain": [
              "(60, 4)"
            ]
          },
          "metadata": {},
          "execution_count": 19
        }
      ]
    },
    {
      "cell_type": "code",
      "metadata": {
        "colab": {
          "base_uri": "https://localhost:8080/"
        },
        "id": "bAkmcMgWkP6N",
        "outputId": "dafb1775-afd7-4c82-d39d-6f8bb1c0810b"
      },
      "source": [
        "resp['Can you attend OFFLINE LAB CLASSES ?'].value_counts()"
      ],
      "execution_count": 20,
      "outputs": [
        {
          "output_type": "execute_result",
          "data": {
            "text/plain": [
              "Yes,  I'll be there     60\n",
              "Sorry, can't make it     5\n",
              "Name: Can you attend OFFLINE LAB CLASSES ?, dtype: int64"
            ]
          },
          "metadata": {},
          "execution_count": 20
        }
      ]
    },
    {
      "cell_type": "code",
      "metadata": {
        "id": "mk8IwsZxkpx0"
      },
      "source": [
        "final=resp[[\"Email address\",\"Can you attend OFFLINE LAB CLASSES ?\",\"MENTION YOUR FULL NAME :-\",\"MENTION YOUR FULL EMAIL :-\",\"MENTION YOUR FULL CONTACT NUM :-\",\"CLASS ROLL NUMBER\",\"HAVE U SHIFTED TO KOLKATA ?\",\"FROM WHICH DISTRICT WILL U COME ?\"]].merge(vacc[[\"CLASS ROLL NUMBER\",\"Have u taken VACCINATION 1ST DOSE?\",\"Have u taken VACCINATION 2ND DOSE?\"]],on=\"CLASS ROLL NUMBER\",how=\"left\")"
      ],
      "execution_count": 22,
      "outputs": []
    },
    {
      "cell_type": "code",
      "metadata": {
        "id": "AuioLVuroBD8"
      },
      "source": [
        "final.to_csv(\"EE_B Results FINAL.csv\",index=False)"
      ],
      "execution_count": 23,
      "outputs": []
    }
  ]
}